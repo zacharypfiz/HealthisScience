{
 "cells": [
  {
   "cell_type": "code",
   "execution_count": null,
   "metadata": {},
   "outputs": [],
   "source": [
    "from manim import *\n",
    "\n",
    "config.media_width = \"75%\"\n",
    "config.verbosity = \"WARNING\""
   ]
  },
  {
   "cell_type": "code",
   "execution_count": 25,
   "metadata": {},
   "outputs": [
    {
     "data": {
      "text/html": [
       "<pre style=\"white-space:pre;overflow-x:auto;line-height:normal;font-family:Menlo,'DejaVu Sans Mono',consolas,'Courier New',monospace\">Manim Community <span style=\"color: #008000; text-decoration-color: #008000\">v0.18.1</span>\n",
       "\n",
       "</pre>\n"
      ],
      "text/plain": [
       "Manim Community \u001b[32mv0.\u001b[0m\u001b[32m18.1\u001b[0m\n",
       "\n"
      ]
     },
     "metadata": {},
     "output_type": "display_data"
    },
    {
     "name": "stderr",
     "output_type": "stream",
     "text": [
      "                                                                                \r"
     ]
    },
    {
     "data": {
      "text/html": [
       "<video src=\"media/jupyter/IntroAnimation@2024-06-05@21-03-34.mp4\" controls autoplay loop style=\"max-width: 75%;\"  >\n",
       "      Your browser does not support the <code>video</code> element.\n",
       "    </video>"
      ],
      "text/plain": [
       "<IPython.core.display.Video object>"
      ]
     },
     "metadata": {},
     "output_type": "display_data"
    }
   ],
   "source": [
    "%%manim -qm IntroAnimation\n",
    "\n",
    "class IntroAnimation(Scene):\n",
    "    def construct(self):\n",
    "        # Load the logo image\n",
    "        logo = ImageMobject(\"./assets/Health_Is_Science.jpg\")\n",
    "        logo.scale(0.3) \n",
    "        logo.move_to(ORIGIN)\n",
    "\n",
    "        # Create the text\n",
    "        text = Text(\"Health is Science\", font_size=54)\n",
    "        text.next_to(logo, DOWN, buff=0.5)\n",
    "\n",
    "        # Create the animations\n",
    "        logo_fade_in = FadeIn(logo, run_time=3)\n",
    "        text_write = Write(text, run_time=2)\n",
    "\n",
    "        # Play the animations asynchronously \n",
    "        self.play(LaggedStart(logo_fade_in, text_write, lag_ratio=0.2))\n",
    "\n",
    "        # Hold the final frame\n",
    "        self.wait(1)"
   ]
  }
 ],
 "metadata": {
  "kernelspec": {
   "display_name": ".venv",
   "language": "python",
   "name": "python3"
  },
  "language_info": {
   "codemirror_mode": {
    "name": "ipython",
    "version": 3
   },
   "file_extension": ".py",
   "mimetype": "text/x-python",
   "name": "python",
   "nbconvert_exporter": "python",
   "pygments_lexer": "ipython3",
   "version": "3.12.2"
  }
 },
 "nbformat": 4,
 "nbformat_minor": 2
}
