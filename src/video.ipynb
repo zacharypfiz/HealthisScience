{
 "cells": [
  {
   "cell_type": "code",
   "execution_count": 3,
   "metadata": {},
   "outputs": [],
   "source": [
    "from manim import *\n",
    "\n",
    "config.media_width = \"75%\"\n",
    "config.verbosity = \"WARNING\""
   ]
  },
  {
   "cell_type": "code",
   "execution_count": 5,
   "metadata": {},
   "outputs": [
    {
     "name": "stderr",
     "output_type": "stream",
     "text": [
      "                                                                                      \r"
     ]
    },
    {
     "data": {
      "text/html": [
       "<pre style=\"white-space:pre;overflow-x:auto;line-height:normal;font-family:Menlo,'DejaVu Sans Mono',consolas,'Courier New',monospace\">Manim Community <span style=\"color: #008000; text-decoration-color: #008000\">v0.18.1</span>\n",
       "\n",
       "</pre>\n"
      ],
      "text/plain": [
       "Manim Community \u001b[32mv0.\u001b[0m\u001b[32m18.1\u001b[0m\n",
       "\n"
      ]
     },
     "metadata": {},
     "output_type": "display_data"
    },
    {
     "name": "stderr",
     "output_type": "stream",
     "text": [
      "                                                                                       \r"
     ]
    },
    {
     "data": {
      "text/html": [
       "<video src=\"media/jupyter/BacterialCellExplosion@2024-06-03@20-12-55.mp4\" controls autoplay loop style=\"max-width: 75%;\"  >\n",
       "      Your browser does not support the <code>video</code> element.\n",
       "    </video>"
      ],
      "text/plain": [
       "<IPython.core.display.Video object>"
      ]
     },
     "metadata": {},
     "output_type": "display_data"
    }
   ],
   "source": [
    "%%manim -qm BacterialCellExplosion\n",
    "\n",
    "from manim import *\n",
    "\n",
    "\n",
    "class BacterialCellExplosion(Scene):\n",
    "    def construct(self):\n",
    "        # Draw the bacterial cell\n",
    "        cell = Circle(radius=1, color=GREEN)\n",
    "        cell_contents = VGroup(\n",
    "            *[\n",
    "                Dot(point=ORIGIN + np.random.normal(scale=0.3, size=3), color=BLUE)\n",
    "                for _ in range(10)\n",
    "            ]\n",
    "        )\n",
    "        cell_contents.move_to(cell.get_center())\n",
    "\n",
    "        self.play(Create(cell), FadeIn(cell_contents))\n",
    "        self.wait(1)\n",
    "\n",
    "        # Animate the cell growing (pressure build-up)\n",
    "        self.play(cell.animate.scale(1.2), run_time=1)\n",
    "        self.wait(0.5)\n",
    "\n",
    "        # Explosion effect\n",
    "        explosion_radius = 3\n",
    "        explosion_points = VGroup(\n",
    "            *[\n",
    "                Dot(\n",
    "                    point=ORIGIN + np.random.normal(scale=explosion_radius, size=3),\n",
    "                    color=BLUE,\n",
    "                )\n",
    "                for _ in range(20)\n",
    "            ]\n",
    "        )\n",
    "\n",
    "        # Animate the cell bursting\n",
    "        self.play(\n",
    "            FadeOut(cell),\n",
    "            AnimationGroup(\n",
    "                *[\n",
    "                    ReplacementTransform(cell_contents[i], explosion_points[i])\n",
    "                    for i in range(len(cell_contents))\n",
    "                ],\n",
    "                lag_ratio=0.1,\n",
    "            ),\n",
    "            run_time=1,\n",
    "        )\n",
    "\n",
    "        self.wait(1)\n",
    "\n",
    "\n",
    "if __name__ == \"__main__\":\n",
    "    scene = BacterialCellExplosion()\n",
    "    scene.render()"
   ]
  }
 ],
 "metadata": {
  "kernelspec": {
   "display_name": ".venv",
   "language": "python",
   "name": "python3"
  },
  "language_info": {
   "codemirror_mode": {
    "name": "ipython",
    "version": 3
   },
   "file_extension": ".py",
   "mimetype": "text/x-python",
   "name": "python",
   "nbconvert_exporter": "python",
   "pygments_lexer": "ipython3",
   "version": "3.12.2"
  }
 },
 "nbformat": 4,
 "nbformat_minor": 2
}
